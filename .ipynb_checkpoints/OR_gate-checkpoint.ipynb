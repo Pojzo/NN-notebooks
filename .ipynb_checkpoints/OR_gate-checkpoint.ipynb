{
 "cells": [
  {
   "cell_type": "code",
   "execution_count": 3,
   "id": "1f1238e2-b0cc-4863-8834-8b20b289c3fe",
   "metadata": {},
   "outputs": [],
   "source": [
    "import numpy as np\n",
    "\n",
    "x = np.array([[0, 0], [0, 1], [1, 0], [1, 1]])\n",
    "t = np.array([0, 1, 1, 1])\n",
    "\n",
    "w = np.random.randn(2)\n",
    "b = np.random.randn(1)\n",
    "\n",
    "lr = 0.5\n",
    "\n",
    "def sigmoid(x):\n",
    "    return 1 / 1 + np.exp(-x)\n",
    "\n",
    "def forward(x, w, b):\n",
    "    z = np.dot(X, w) + b\n",
    "    y = sigmoid(z)\n",
    "    return y, z\n",
    "\n",
    "def backward(x, t, y, z):\n",
    "    derror_y = y - t\n",
    "    dy_z = y * (1 - y)\n",
    "    \n",
    "    dz_w = x\n",
    "    dz_b = np.ones_like(x)\n"
   ]
  },
  {
   "cell_type": "code",
   "execution_count": 11,
   "id": "c40b82e3-dc34-488d-aef1-823e8cd39a07",
   "metadata": {},
   "outputs": [
    {
     "data": {
      "text/plain": [
       "(array([[1.9509143 , 1.9509143 ],\n",
       "        [1.9509143 , 2.89937701],\n",
       "        [2.34124719, 1.9509143 ],\n",
       "        [2.34124719, 2.89937701]]),\n",
       " array([[ 0.05033133,  0.05033133],\n",
       "        [ 0.05033133, -0.64152594],\n",
       "        [-0.29359992,  0.05033133],\n",
       "        [-0.29359992, -0.64152594]]))"
      ]
     },
     "execution_count": 11,
     "metadata": {},
     "output_type": "execute_result"
    }
   ],
   "source": [
    "forward(x, w, b)"
   ]
  },
  {
   "cell_type": "code",
   "execution_count": 8,
   "id": "c7828f40-57ee-4dee-8174-98112c915e43",
   "metadata": {},
   "outputs": [
    {
     "data": {
      "text/plain": [
       "array([ 0.        , -0.69185728, -0.34393125, -1.03578852])"
      ]
     },
     "execution_count": 8,
     "metadata": {},
     "output_type": "execute_result"
    }
   ],
   "source": [
    "np.dot(x, w)"
   ]
  },
  {
   "cell_type": "code",
   "execution_count": 9,
   "id": "e56550d7-4e91-4636-aa9b-03e8b022cddf",
   "metadata": {},
   "outputs": [
    {
     "data": {
      "text/plain": [
       "array([[0, 0],\n",
       "       [0, 1],\n",
       "       [1, 0],\n",
       "       [1, 1]])"
      ]
     },
     "execution_count": 9,
     "metadata": {},
     "output_type": "execute_result"
    }
   ],
   "source": [
    "x"
   ]
  },
  {
   "cell_type": "code",
   "execution_count": 10,
   "id": "00a393e0-2683-4e15-8086-7e7e6a7bba91",
   "metadata": {},
   "outputs": [
    {
     "data": {
      "text/plain": [
       "array([-0.34393125, -0.69185728])"
      ]
     },
     "execution_count": 10,
     "metadata": {},
     "output_type": "execute_result"
    }
   ],
   "source": [
    "w"
   ]
  },
  {
   "cell_type": "code",
   "execution_count": null,
   "id": "4597e949-50d6-4170-8abc-89861c492ccd",
   "metadata": {},
   "outputs": [],
   "source": []
  }
 ],
 "metadata": {
  "kernelspec": {
   "display_name": "Python 3 (ipykernel)",
   "language": "python",
   "name": "python3"
  },
  "language_info": {
   "codemirror_mode": {
    "name": "ipython",
    "version": 3
   },
   "file_extension": ".py",
   "mimetype": "text/x-python",
   "name": "python",
   "nbconvert_exporter": "python",
   "pygments_lexer": "ipython3",
   "version": "3.10.14"
  }
 },
 "nbformat": 4,
 "nbformat_minor": 5
}
