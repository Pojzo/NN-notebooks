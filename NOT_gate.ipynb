{
 "cells": [
  {
   "cell_type": "code",
   "execution_count": 14,
   "id": "1a6a62a3-28b4-47b8-b9f5-2b78fcb46307",
   "metadata": {},
   "outputs": [
    {
     "name": "stdout",
     "output_type": "stream",
     "text": [
      "Loss after 0 epochs:  0.1349435429318461\n",
      "Loss after 1000 epochs:  0.0033779839848946305\n",
      "Loss after 2000 epochs:  0.0015530050538637413\n",
      "Loss after 3000 epochs:  0.0009953081164142648\n",
      "Loss after 4000 epochs:  0.0007288485425424024\n",
      "Loss after 5000 epochs:  0.0005735806550662589\n",
      "Loss after 6000 epochs:  0.00047220694081044336\n",
      "Loss after 7000 epochs:  0.00040093705669815016\n",
      "Loss after 8000 epochs:  0.0003481533935732538\n",
      "Loss after 9000 epochs:  0.00030752029946825617\n"
     ]
    }
   ],
   "source": [
    "import numpy as np\n",
    "\n",
    "x = [0, 1]\n",
    "t = [1, 0]\n",
    "\n",
    "w1 = np.random.randn(1)\n",
    "b = np.random.randn(1)\n",
    "\n",
    "def forward(x, w, b):\n",
    "    z = w * x + b\n",
    "    y = sigmoid(z)\n",
    "    return y, z\n",
    "\n",
    "def backward(x, t, y, z):\n",
    "    derror_y = y - t\n",
    "    dy_z = y * (1 - y)\n",
    "    dz_w = x\n",
    "    dz_b = np.ones_like(x)\n",
    "    \n",
    "    derror_w = np.mean(derror_y * dy_z * dz_w)\n",
    "    derror_b = np.mean(derror_y * dy_z * dz_b)\n",
    "    \n",
    "    return derror_w, derror_b\n",
    "\n",
    "def sigmoid(x):\n",
    "    return 1 / (1 + np.exp(-x))\n",
    "\n",
    "lr = 0.5\n",
    "\n",
    "for i in range(10000):\n",
    "    y, z = forward(x, w1, b)\n",
    "\n",
    "    error = np.mean(0.5 * (t - y) ** 2)\n",
    "    \n",
    "    derror_w1, derror_b = backward(x, t, y, z)\n",
    "    \n",
    "    w1 -= lr * derror_w1\n",
    "    b -= lr * derror_b\n",
    "    if i % 1000 == 0:\n",
    "        print(\"Loss after {} epochs: \".format(i), error)"
   ]
  },
  {
   "cell_type": "code",
   "execution_count": 12,
   "id": "399852b8-1c8e-4e66-878f-3955b3257d3a",
   "metadata": {},
   "outputs": [
    {
     "name": "stdout",
     "output_type": "stream",
     "text": [
      "NOT(0) = 0.9742831047066552\n",
      "NOT(1) = 0.020932147365156223\n"
     ]
    }
   ],
   "source": [
    "print(\"NOT(0) =\", forward(0, w1, b)[0][0])\n",
    "print(\"NOT(1) =\", forward(1, w1, b)[0][0])"
   ]
  },
  {
   "cell_type": "code",
   "execution_count": null,
   "id": "601cbc56-b18f-4c57-836e-57aa88e74062",
   "metadata": {},
   "outputs": [],
   "source": []
  }
 ],
 "metadata": {
  "kernelspec": {
   "display_name": "Python 3 (ipykernel)",
   "language": "python",
   "name": "python3"
  },
  "language_info": {
   "codemirror_mode": {
    "name": "ipython",
    "version": 3
   },
   "file_extension": ".py",
   "mimetype": "text/x-python",
   "name": "python",
   "nbconvert_exporter": "python",
   "pygments_lexer": "ipython3",
   "version": "3.10.14"
  }
 },
 "nbformat": 4,
 "nbformat_minor": 5
}
