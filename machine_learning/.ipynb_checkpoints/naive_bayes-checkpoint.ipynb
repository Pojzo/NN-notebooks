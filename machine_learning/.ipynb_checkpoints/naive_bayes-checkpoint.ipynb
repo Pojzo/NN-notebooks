{
 "cells": [
  {
   "cell_type": "code",
   "execution_count": 4,
   "id": "be9fbd9f-2b4b-4197-a212-77b325eb627c",
   "metadata": {},
   "outputs": [],
   "source": [
    "import numpy as np\n",
    "from matplotlib import pyplot as plt"
   ]
  },
  {
   "cell_type": "code",
   "execution_count": 27,
   "id": "39edcb92-fbab-4ab1-ab17-0ce235ffdf86",
   "metadata": {},
   "outputs": [
    {
     "data": {
      "text/plain": [
       "<matplotlib.collections.PathCollection at 0x2b0a98388b0>"
      ]
     },
     "execution_count": 27,
     "metadata": {},
     "output_type": "execute_result"
    },
    {
     "data": {
      "image/png": "[encoded data removed]",
      "text/plain": [
       "<Figure size 640x480 with 1 Axes>"
      ]
     },
     "metadata": {},
     "output_type": "display_data"
    }
   ],
   "source": [
    "class_0 = np.random.multivariate_normal([2, 2], [[1, 0.5], [0.5, 1]], size=100)\n",
    "class_1 = np.random.multivariate_normal([7, 7], [[1, 0.5], [0.5, 1]], size=100)\n",
    "\n",
    "plt.scatter(*class_0.T)\n",
    "plt.scatter(*class_1.T)"
   ]
  },
  {
   "cell_type": "code",
   "execution_count": 39,
   "id": "2bc6324b-0620-4cbd-a63a-ba1ae8811436",
   "metadata": {},
   "outputs": [],
   "source": [
    "priors = [len(class_0) / (len(class_0) + len(class_1))]"
   ]
  },
  {
   "cell_type": "code",
   "execution_count": 102,
   "id": "4aa119bc-f641-4c00-9dbb-5308b98f3901",
   "metadata": {},
   "outputs": [],
   "source": [
    "def predict(point, classes):\n",
    "    total_len = np.sum([x.shape[-2] for x in classes])\n",
    "\n",
    "    return total_len\n",
    "    \n",
    "    prios = [len(x) / num_\n",
    "    prior1 = len(class1) / len(class1 + class2)\n",
    "    prior2 = 1 - prior1\n",
    "\n",
    "    mean1 = class1.mean(axis=1)\n",
    "    mean2 = class1.mean(axis=1)\n",
    "\n",
    "    var1 = class1.var(axis=1)\n",
    "    var2 = class2.var(axis=1)\n",
    "\n",
    "    \n",
    "\n",
    "mean_0 = np.mean(class_0, axis=0)\n",
    "mean_1 = np.mean(class_1, axis=0)\n",
    "\n",
    "var_0 = np.var(class_0, axis=0)\n",
    "var_1 = np.var(class_1, axis=0)\n",
    "\n",
    "point = [4, 8]\n",
    "\n",
    "prob_point_x0 = 1 / np.sqrt(2 * np.pi * var_0[0]) *  np.exp(-(point[0] - mean_0[0]) ** 2 / (2 * var_0[0]))\n",
    "prob_point_y0 = 1 / np.sqrt(2 * np.pi * var_0[1]) *  np.exp(-(point[1] - mean_0[1]) ** 2 / (2 * var_0[1]))"
   ]
  },
  {
   "cell_type": "code",
   "execution_count": 106,
   "id": "a6b15d5d-6c73-462d-bcc9-9e6b0582edec",
   "metadata": {},
   "outputs": [],
   "source": [
    "data = np.array([class_0.T, class_1.T])"
   ]
  },
  {
   "cell_type": "code",
   "execution_count": 107,
   "id": "7a90aa4c-c96b-4ffb-8c76-ed2701d9202b",
   "metadata": {},
   "outputs": [
    {
     "data": {
      "text/plain": [
       "(2, 2, 100)"
      ]
     },
     "execution_count": 107,
     "metadata": {},
     "output_type": "execute_result"
    }
   ],
   "source": [
    "data.shape"
   ]
  },
  {
   "cell_type": "code",
   "execution_count": 37,
   "id": "749b977e-ad71-4566-a923-0799f88e10c5",
   "metadata": {},
   "outputs": [
    {
     "data": {
      "text/plain": [
       "0.6666666666666666"
      ]
     },
     "execution_count": 37,
     "metadata": {},
     "output_type": "execute_result"
    }
   ],
   "source": []
  },
  {
   "cell_type": "code",
   "execution_count": null,
   "id": "f6c0601d-45e2-400b-bce8-2ae92064e63f",
   "metadata": {},
   "outputs": [],
   "source": []
  }
 ],
 "metadata": {
  "kernelspec": {
   "display_name": "Python 3 (ipykernel)",
   "language": "python",
   "name": "python3"
  },
  "language_info": {
   "codemirror_mode": {
    "name": "ipython",
    "version": 3
   },
   "file_extension": ".py",
   "mimetype": "text/x-python",
   "name": "python",
   "nbconvert_exporter": "python",
   "pygments_lexer": "ipython3",
   "version": "3.10.14"
  }
 },
 "nbformat": 4,
 "nbformat_minor": 5
}
