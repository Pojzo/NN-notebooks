{
 "cells": [
  {
   "cell_type": "code",
   "execution_count": 119,
   "id": "87458efe-581c-4ada-b6e0-38770d91259f",
   "metadata": {
    "collapsed": true,
    "jupyter": {
     "outputs_hidden": true,
     "source_hidden": true
    }
   },
   "outputs": [
    {
     "name": "stdout",
     "output_type": "stream",
     "text": [
      "0.12507463478511868\n",
      "0.0457791197560741\n",
      "0.040598772964783834\n",
      "0.03965280480739881\n",
      "0.039373052703183524\n",
      "0.03930939164647629\n",
      "0.039341259036873674\n",
      "0.03942343458967693\n",
      "0.03953529433459196\n",
      "0.039666135127108655\n",
      "0.03980986600552047\n",
      "0.03996277197126047\n",
      "0.04012246117382538\n",
      "0.04028732517346635\n",
      "0.04045624291704045\n",
      "0.04062840921810896\n",
      "0.04080323074138949\n",
      "0.04098026044888851\n",
      "0.04115915490105974\n",
      "0.041339645638060106\n",
      "0.041521519511009485\n",
      "0.0417046048602236\n",
      "0.041888761606346483\n",
      "0.04207387401625282\n",
      "0.042259845331758465\n",
      "0.04244659371672095\n",
      "0.04263404914976144\n",
      "0.042822151001999195\n",
      "0.043010846113487766\n",
      "0.04320008723156887\n",
      "0.04338983170709827\n",
      "0.04358004036524832\n",
      "0.043770676479007856\n",
      "0.04396170477659075\n",
      "0.04415309040814107\n",
      "0.04434479777980398\n",
      "0.044536789128703846\n",
      "0.04472902264935984\n",
      "0.0449214498685158\n",
      "0.045114011757122166\n",
      "0.04530663267331202\n",
      "0.045499210447126015\n",
      "0.04569159927716543\n",
      "0.045883578436690706\n",
      "0.04607479087591622\n",
      "0.04626461193009977\n",
      "0.04645183579272436\n",
      "0.046633807530892434\n",
      "0.046803462040480276\n",
      "0.04693547021582672\n",
      "0.04687587976357382\n",
      "0.018371172336998334\n",
      "0.0038484818409700167\n",
      "0.0025850045907853275\n",
      "0.0019412188049457591\n",
      "0.0015494011457159668\n",
      "0.0012866804574023865\n",
      "0.0010987800594446596\n",
      "0.0009579939606444432\n",
      "0.0008487302359703873\n",
      "0.0007615600328368984\n",
      "0.0006904553778044372\n",
      "0.0006313874833222544\n",
      "0.0005815640616502814\n",
      "0.00053899027751883\n",
      "0.0005022039512260449\n",
      "0.0004701094655827904\n",
      "0.0004418700340656701\n",
      "0.00041683576899679805\n",
      "0.0003944944218833321\n",
      "0.0003744368888480496\n",
      "0.00035633257206342354\n",
      "0.0003399114664666375\n",
      "0.00032495092677417814\n",
      "0.00031126574998291976\n",
      "0.00029870064462570166\n",
      "0.00028712444355702454\n",
      "0.00027642560756457586\n",
      "0.0002665086964674507\n",
      "0.00025729157361443193\n",
      "0.00024870317218354647\n",
      "0.00024068169603081672\n",
      "0.00023317315970537575\n",
      "0.00022613019541964033\n",
      "0.00021951107179479096\n",
      "0.00021327888184778464\n",
      "0.00020740086716567125\n",
      "0.000201847852382246\n",
      "0.0001965937695399502\n",
      "0.0001916152561227993\n",
      "0.00018689131380122005\n",
      "0.00018240301746816887\n",
      "0.00017813326613880313\n",
      "0.00017406656886059777\n",
      "0.000170188860032274\n",
      "0.00016648733953015\n",
      "0.00016295033384453397\n",
      "0.00015956717507814819\n",
      "0.00015632809518575735\n",
      "0.0001532241332642502\n"
     ]
    }
   ],
   "source": [
    "import numpy as np\n",
    "\n",
    "x = np.array([[0, 0], [0, 1], [1, 0], [1, 1]])\n",
    "t = np.expand_dims(np.array([0, 1, 1, 0]), 1)\n",
    "\n",
    "w0 = np.random.randn(2, 2)\n",
    "w1 = np.random.randn(2)\n",
    "\n",
    "b1 = np.random.randn(2)\n",
    "b2 = np.random.randn(1)\n",
    "\n",
    "lr = 0.5\n",
    "\n",
    "def sigmoid(x):\n",
    "    return 1 / (1 + np.exp(-x))\n",
    "\n",
    "def forward(X, w0, w1, b1, b2):\n",
    "    hidden_input = np.dot(X, w0) + b1\n",
    "    hidden_output = sigmoid(hidden_input)\n",
    "\n",
    "    z = np.dot(hidden_output, np.expand_dims(w1, 1)) + b2\n",
    "    y = sigmoid(z)\n",
    "    \n",
    "    return hidden_input, hidden_output, z, y\n",
    "\n",
    "def backward(x, hidden_input, hidden_output, z, y):\n",
    "    derror_y = y - t\n",
    "    dy_z = y * (1 - y)\n",
    "    \n",
    "    \n",
    "    dz_w1 = hidden_output\n",
    "    dz_b2 = np.ones_like(dy_z)\n",
    "    \n",
    "    dz_houtput = w1\n",
    "    \n",
    "    derror_w1 = derror_y * dy_z * dz_w1\n",
    "    derror_b2 = derror_y * dy_z * dz_b2\n",
    "\n",
    "    derror_houtput = derror_y * dy_z * dz_houtput\n",
    "    dhoutput_hinput = hidden_output * (1 - hidden_output)\n",
    "\n",
    "    dhinput_w0 = x\n",
    "    dhinput_b1 = 1\n",
    "    \n",
    "    # derror_w0 = derror_houtput * dhoutput_hinput * dhinput_w0\n",
    "    derror_w0 = np.dot(x.T, (derror_houtput * dhoutput_hinput))\n",
    "\n",
    "    # derror_b1 = derror_houtput * dhoutput_hinput * dhinput_b1\n",
    "    derror_b1 = np.sum(derror_houtput * dhoutput_hinput, axis=0)\n",
    "\n",
    "\n",
    "    return derror_w0, derror_b1, derror_w1, derror_b2\n",
    "\n",
    "for i in range(100000):\n",
    "    hidden_input, hidden_output, z, y = forward(x, w0, w1, b1, b2)\n",
    "    \n",
    "    derror_w0, derror_b1, derror_w1, derror_w2 = backward(x, hidden_input, hidden_output, z, y)\n",
    "    \n",
    "    w0 -= lr * derror_w0\n",
    "    b1 -= lr * derror_b1\n",
    "\n",
    "    w1 -= lr * np.sum(derror_w1, axis=0)\n",
    "    b2 -= lr * np.sum(derror_b2, axis=0)\n",
    "    \n",
    "    error = np.mean(0.5 * (y - t) ** 2)\n",
    "    if i % 1000 == 0:\n",
    "        print(error)"
   ]
  },
  {
   "cell_type": "code",
   "execution_count": null,
   "id": "aff31d8c-f97c-43b6-acc5-f0f53938d937",
   "metadata": {},
   "outputs": [],
   "source": []
  },
  {
   "cell_type": "code",
   "execution_count": 96,
   "id": "8202f95f-57e9-490a-ab51-7fcf03b1d60f",
   "metadata": {},
   "outputs": [
    {
     "data": {
      "text/plain": [
       "(4, 1)"
      ]
     },
     "execution_count": 96,
     "metadata": {},
     "output_type": "execute_result"
    }
   ],
   "source": [
    "y.shape\n"
   ]
  },
  {
   "cell_type": "code",
   "execution_count": 84,
   "id": "361057dd-9087-4e2a-87d4-062c91b3fd8f",
   "metadata": {},
   "outputs": [],
   "source": [
    "hidden_input = np.dot(x, w0) + b1\n",
    "\n",
    "hidden_output = sigmoid(hidden_input)\n",
    "\n",
    "z = np.dot(hidden_output, np.expand_dims(w1, 1)) + b2\n",
    "y = sigmoid(z)"
   ]
  },
  {
   "cell_type": "code",
   "execution_count": 99,
   "id": "dc150617-7d11-47ad-afb7-e0277d838cfa",
   "metadata": {},
   "outputs": [
    {
     "data": {
      "text/plain": [
       "(4, 1)"
      ]
     },
     "execution_count": 99,
     "metadata": {},
     "output_type": "execute_result"
    }
   ],
   "source": [
    "np.expand_dims(t, 1).shape"
   ]
  },
  {
   "cell_type": "code",
   "execution_count": 86,
   "id": "62850e1e-af70-44f7-8ad9-425a5c3635f0",
   "metadata": {},
   "outputs": [
    {
     "data": {
      "text/plain": [
       "(array([[0.60507114],\n",
       "        [0.5632009 ],\n",
       "        [0.61603242],\n",
       "        [0.58709444]]),\n",
       " array([[0.4266404 ],\n",
       "        [0.25416303],\n",
       "        [0.47274148],\n",
       "        [0.35196678]]))"
      ]
     },
     "execution_count": 86,
     "metadata": {},
     "output_type": "execute_result"
    }
   ],
   "source": [
    "forward(x, w0, w1, b1, b2)"
   ]
  },
  {
   "cell_type": "code",
   "execution_count": 134,
   "id": "7e03f982-f164-4cf1-8313-72257038e13b",
   "metadata": {
    "scrolled": true
   },
   "outputs": [
    {
     "name": "stdout",
     "output_type": "stream",
     "text": [
      "0.18632051616940726\n",
      "0.12426888641442171\n",
      "0.06750442259692385\n",
      "0.06408011684222047\n",
      "0.0634060152537991\n",
      "0.063128438785424\n",
      "0.06297870885146724\n",
      "0.0628855303020554\n",
      "0.06282214914598001\n",
      "0.06277633323350926\n"
     ]
    }
   ],
   "source": [
    "import numpy as np\n",
    "\n",
    "x = np.array([[0, 0], [0, 1], [1, 0], [1, 1]])\n",
    "t = np.expand_dims(np.array([0, 1, 1, 0]), 1)\n",
    "\n",
    "w0 = np.random.randn(2, 2)\n",
    "w1 = np.random.randn(2)\n",
    "\n",
    "b1 = np.random.randn(2)\n",
    "b2 = np.random.randn(1)\n",
    "\n",
    "lr = 0.5\n",
    "\n",
    "def sigmoid(x):\n",
    "    return 1 / (1 + np.exp(-x))\n",
    "\n",
    "def forward(X, w0, w1, b1, b2):\n",
    "    hidden_input = np.dot(X, w0) + b1\n",
    "    hidden_output = sigmoid(hidden_input)\n",
    "\n",
    "    z = np.dot(hidden_output, np.expand_dims(w1, 1)) + b2\n",
    "    y = sigmoid(z)\n",
    "    \n",
    "    return hidden_input, hidden_output, z, y\n",
    "\n",
    "def backward(x, hidden_input, hidden_output, z, y):\n",
    "    derror_y = y - t\n",
    "    dy_z = y * (1 - y)\n",
    "    \n",
    "    dz_w1 = hidden_output\n",
    "    dz_b2 = np.ones_like(dy_z)\n",
    "    \n",
    "    dz_houtput = w1\n",
    "    \n",
    "    derror_w1 = derror_y * dy_z * dz_w1\n",
    "    derror_b2 = derror_y * dy_z * dz_b2\n",
    "\n",
    "    derror_houtput = derror_y * dy_z * dz_houtput\n",
    "    dhoutput_hinput = hidden_output * (1 - hidden_output)\n",
    "\n",
    "    dhinput_w0 = x\n",
    "    dhinput_b1 = 1\n",
    "    \n",
    "    derror_w0 = np.dot(x.T, (derror_houtput * dhoutput_hinput))\n",
    "    derror_b1 = np.sum(derror_houtput * dhoutput_hinput, axis=0)\n",
    "    \n",
    "    return derror_w0, derror_b1, derror_w1, derror_b2\n",
    "\n",
    "for i in range(10000):\n",
    "    hidden_input, hidden_output, z, y = forward(x, w0, w1, b1, b2)\n",
    "    \n",
    "    derror_w0, derror_b1, derror_w1, derror_b2 = backward(x, hidden_input, hidden_output, z, y)  # Corrected variable name\n",
    "    \n",
    "    w0 -= lr * derror_w0\n",
    "    b1 -= lr * derror_b1\n",
    "\n",
    "    w1 -= lr * np.sum(derror_w1, axis=0)\n",
    "    b2 -= lr * np.sum(derror_b2, axis=0)\n",
    "    \n",
    "    error = np.mean(0.5 * (y - t) ** 2)\n",
    "    if i % 1000 == 0:\n",
    "        print(error)\n"
   ]
  },
  {
   "cell_type": "code",
   "execution_count": 120,
   "id": "03f1d9b7-613c-4ed5-aeea-00cb1f1d98b6",
   "metadata": {},
   "outputs": [
    {
     "data": {
      "text/plain": [
       "(2, 2)"
      ]
     },
     "execution_count": 120,
     "metadata": {},
     "output_type": "execute_result"
    }
   ],
   "source": [
    "derror_w0.shape"
   ]
  },
  {
   "cell_type": "code",
   "execution_count": null,
   "id": "71e5cc98-eec2-49d4-ba24-30a0139bd880",
   "metadata": {},
   "outputs": [],
   "source": []
  }
 ],
 "metadata": {
  "kernelspec": {
   "display_name": "Python 3 (ipykernel)",
   "language": "python",
   "name": "python3"
  },
  "language_info": {
   "codemirror_mode": {
    "name": "ipython",
    "version": 3
   },
   "file_extension": ".py",
   "mimetype": "text/x-python",
   "name": "python",
   "nbconvert_exporter": "python",
   "pygments_lexer": "ipython3",
   "version": "3.10.14"
  }
 },
 "nbformat": 4,
 "nbformat_minor": 5
}
