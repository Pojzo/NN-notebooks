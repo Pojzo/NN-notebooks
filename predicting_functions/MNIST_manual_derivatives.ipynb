{
 "cells": [
  {
   "cell_type": "code",
   "execution_count": 1,
   "id": "c15941d6",
   "metadata": {},
   "outputs": [],
   "source": [
    "# in this notebook I'll be implementing a shallow neural network\n",
    "# it's input will be one x value and output x ** 2\n",
    "# there will also be one hidden layer"
   ]
  },
  {
   "cell_type": "code",
   "execution_count": 4,
   "id": "5cd129a1",
   "metadata": {},
   "outputs": [],
   "source": [
    "import tensorflow_datasets as tfds\n",
    "import tensorflow as tf\n",
    "\n",
    "ds = tfds.load(name='mnist', split='train', shuffle_files=True)"
   ]
  },
  {
   "cell_type": "code",
   "execution_count": 5,
   "id": "e92cedce",
   "metadata": {},
   "outputs": [],
   "source": [
    "ds = ds.shuffle(len(ds)).prefetch(tf.data.AUTOTUNE)\n",
    "images, labels = list(), list()\n",
    "for example in ds.take(32):\n",
    "    images.append(example[\"image\"])\n",
    "    labels.append(example[\"label\"])"
   ]
  },
  {
   "cell_type": "code",
   "execution_count": 7,
   "id": "9977ae75",
   "metadata": {},
   "outputs": [
    {
     "data": {
      "text/plain": [
       "(tensor([[0., 0., 0., 0., 1., 0., 0., 0., 0., 0.],\n",
       "         [0., 0., 0., 0., 0., 0., 0., 0., 1., 0.],\n",
       "         [0., 0., 0., 0., 0., 0., 0., 1., 0., 0.]]),\n",
       " torch.Size([32, 10]))"
      ]
     },
     "execution_count": 7,
     "metadata": {},
     "output_type": "execute_result"
    }
   ],
   "source": [
    "from torch.nn.functional import one_hot\n",
    "import torch\n",
    "import numpy as np\n",
    "\n",
    "# prepare training data\n",
    "\n",
    "images = np.array(images, dtype=np.float32\n",
    "                 ).reshape(len(images), 28 * 28, 1).squeeze(axis=-1)\n",
    "labels = np.array(labels, dtype=np.int32).reshape(len(images), 1)\n",
    "tensor_labels = torch.tensor(labels).long()\n",
    "tensor_labels = one_hot(tensor_labels, num_classes=10).squeeze(dim=1).float()\n",
    "tensor_labels[:3], tensor_labels.shape"
   ]
  },
  {
   "cell_type": "code",
   "execution_count": 8,
   "id": "7e8319a0",
   "metadata": {},
   "outputs": [
    {
     "data": {
      "text/plain": [
       "((32, 784), (32, 1))"
      ]
     },
     "execution_count": 8,
     "metadata": {},
     "output_type": "execute_result"
    }
   ],
   "source": [
    "images.shape, labels.shape"
   ]
  },
  {
   "cell_type": "code",
   "execution_count": 9,
   "id": "1e1ef768",
   "metadata": {},
   "outputs": [
    {
     "data": {
      "image/png": "[encoded data removed]",
      "text/plain": [
       "<Figure size 720x720 with 9 Axes>"
      ]
     },
     "metadata": {
      "needs_background": "light"
     },
     "output_type": "display_data"
    }
   ],
   "source": [
    "from matplotlib import pyplot as plt\n",
    "\n",
    "fig, axs = plt.subplots(3, 3, figsize=(10, 10))\n",
    "for i in range(3):\n",
    "    for j in range(3):\n",
    "        axs[i][j].imshow(images[i + j].reshape(28, 28, 1))\n",
    "        axs[i][j].set_title(f'True value: {int(labels[i + j])}')\n",
    "        axs[i][j].set_xticklabels(\"\")\n",
    "        axs[i][j].set_yticklabels(\"\")"
   ]
  },
  {
   "cell_type": "code",
   "execution_count": 10,
   "id": "aaa0075e",
   "metadata": {},
   "outputs": [],
   "source": [
    "input_size = 784\n",
    "dense1_size = 256\n",
    "output_size = 10"
   ]
  },
  {
   "cell_type": "code",
   "execution_count": 13,
   "id": "8d3ec72b",
   "metadata": {
    "scrolled": true
   },
   "outputs": [
    {
     "name": "stdout",
     "output_type": "stream",
     "text": [
      "27.947547912597656 0.0%\n",
      "10.845019340515137 53.125%\n",
      "7.3826212882995605 46.875%\n",
      "3.2828283309936523 62.5%\n",
      "1.1169490814208984 90.625%\n",
      "0.02972486987709999 96.875%\n",
      "0.00015791767509654164 100.0%\n",
      "0.00012973036791663617 100.0%\n",
      "0.0001126051793107763 100.0%\n",
      "0.00010085239773616195 100.0%\n"
     ]
    }
   ],
   "source": [
    "import torch\n",
    "import torch.nn.functional as F\n",
    "from torch.nn import CrossEntropyLoss\n",
    "\n",
    "def cross_entropy(predictions, targets, epsilon=1e-12):\n",
    "    predictions = np.clip(predictions, epsilon, 1. - epsilon)\n",
    "    N = predictions.shape[0]\n",
    "    ce = -np.sum(targets*np.log(predictions+1e-9))/N\n",
    "    return ce\n",
    "\n",
    "lr = 1\n",
    "\n",
    "tensor_x = torch.tensor(images) / 255.\n",
    "tensor_y = tensor_labels\n",
    "\n",
    "W1 = torch.randn(input_size, dense1_size, requires_grad=True)\n",
    "b1 = torch.randn(dense1_size, requires_grad=True)\n",
    "\n",
    "W2 = torch.randn(dense1_size, output_size, requires_grad=True)\n",
    "b2 = torch.randn(output_size, requires_grad=True)\n",
    "\n",
    "def predict(x):\n",
    "    dense1_output = x @ W1 + b1\n",
    "    dense1_activation = F.tanh(dense1_output)\n",
    "\n",
    "    dense2_output = dense1_activation @ W2 + b2\n",
    "    dense2_activation = F.softmax(dense2_output, dim=1)\n",
    "    \n",
    "    return dense2_activation\n",
    "\n",
    "for i in range(10):    \n",
    "    dense1_output = tensor_x @ W1 + b1\n",
    "    dense1_activation = torch.tanh(dense1_output)\n",
    "\n",
    "    dense2_output = dense1_activation @ W2 + b2\n",
    "    prediction = dense2_output\n",
    "    loss_function = CrossEntropyLoss()\n",
    "    #loss_function = torch.nn.NLLLoss()\n",
    "\n",
    "    loss = loss_function(prediction, tensor_y)\n",
    "    W1.grad = None\n",
    "    W2.grad = None\n",
    "    b1.grad = None\n",
    "    b2.grad = None\n",
    "    \n",
    "    loss.backward()\n",
    "    \n",
    "    W1.data -= lr * W1.grad\n",
    "    W2.data -= lr * W2.grad\n",
    "    b1.data -= lr * b1.grad\n",
    "    b2.data -= lr * b2.grad\n",
    "    \n",
    "    accuracy = list(prediction.argmax(axis=1) == tensor_y.argmax(axis=1)).count(True) / len(tensor_y)\n",
    "    print(loss.item(), f'{accuracy * 100}%')"
   ]
  },
  {
   "cell_type": "code",
   "execution_count": 37,
   "id": "ac7c5457",
   "metadata": {},
   "outputs": [],
   "source": [
    "# tutok som to robil cez torch\n",
    "# teraz spravim manualne parcialne derivacie 💀💀💀\n",
    "class Loss_MSE:\n",
    "    def __init__(self):\n",
    "        self.output = None\n",
    "        self.doutput = None        \n",
    "\n",
    "    def forward(self, y, y_pred):\n",
    "        self.output = np.sum([(y_i - y_pred_i) ** 2 for y_i, y_pred_i in zip(y, y_pred)]) / len(y)\n",
    "    \n",
    "    def backward(self, dvalues, y_pred):\n",
    "        self.doutput = (2 * (y - y_pred)) / len(y)\n",
    "\n",
    "class Activation_Softmax:\n",
    "    def __init__(self):\n",
    "        self.output = None\n",
    "        self.doutput = None\n",
    "    \n",
    "    def forward(self, z):\n",
    "        z_exp = np.exp(z)\n",
    "        self.output = [z_exp[i] / np.sum(z_exp[i]) for i in range(len(z_exp))]\n",
    "    \n",
    "    def backward(self, ):\n",
    "        ...\n",
    "        \n",
    "        \n",
    "class Activation_Tanh:\n",
    "    def __init__(self):\n",
    "        self.output = None\n",
    "        self.doutput = None\n",
    "    \n",
    "    def forward(self, inpt):\n",
    "        self.output = np.tanh(inpt)\n",
    "\n",
    "class Dense_Layer:\n",
    "    def __init__(self, input_size, num_neurons, activation = 'tanh'):\n",
    "        self.weights = np.random.randn(input_size, num_neurons)\n",
    "        self.bias = np.random.randn(1)\n",
    "        \n",
    "        self.activation = Activation_Tanh() if activation == 'tanh' else None\n",
    "        self.output = None\n",
    "        self.activation_output = None\n",
    "    \n",
    "    def forward(self, inpt):\n",
    "        self.output = inpt @ self.weights + self.bias\n",
    "        self.activation.forward(self.output)\n",
    "        self.activation_output = self.activation.output\n",
    "    \n",
    "    def backward(self, dinput):\n",
    "        \n",
    "    \n",
    "    \n",
    "class Model:\n",
    "    def __init__(self, num_neurons, input_size = 1, activation = 'tanh', loss = 'mse'):\n",
    "        self.dense = Dense_Layer(input_size, num_neurons, activation = activation)\n",
    "        self.loss_function = Loss_MSE() if loss == 'mse' else None\n",
    "        self.loss = None\n",
    "        self.output = None\n",
    "    \n",
    "    # calculate output of the model\n",
    "    def forward(self, inpt):\n",
    "        self.dense.forward(inpt)\n",
    "        self.output = self.dense.activation_output.sum(axis = 1, keepdims=True)\n",
    "    \n",
    "    def calculate_loss(self, y, y_pred):\n",
    "        self.loss_function.forward(y, y_pred)\n",
    "        self.loss = self.loss_function.output\n",
    "    \n",
    "    def backward(self):\n",
    "        ...\n",
    "        "
   ]
  },
  {
   "cell_type": "code",
   "execution_count": 38,
   "id": "2267fdcc",
   "metadata": {},
   "outputs": [
    {
     "name": "stdout",
     "output_type": "stream",
     "text": [
      "(2, 3)\n"
     ]
    }
   ],
   "source": [
    "f = Activation_Softmax()\n",
    "x = np.array([[1, 2, 3], [3, 4, 5]])\n",
    "f.forward(x)"
   ]
  },
  {
   "cell_type": "code",
   "execution_count": 70,
   "id": "e2905191",
   "metadata": {},
   "outputs": [],
   "source": [
    "import torch\n",
    "\n",
    "x = [[1., 2., 3.]]\n",
    "w = [[1., 1.], [2., 2.], [3., 3.]]\n",
    "x_tensor = torch.tensor(x, requires_grad=True)\n",
    "w_tensor = torch.tensor(w, requires_grad=True)"
   ]
  },
  {
   "cell_type": "code",
   "execution_count": 71,
   "id": "a96509fd",
   "metadata": {},
   "outputs": [],
   "source": [
    "output = x_tensor @ w_tensor\n",
    "output_sum = output.sum()"
   ]
  },
  {
   "cell_type": "code",
   "execution_count": 72,
   "id": "90f57800",
   "metadata": {},
   "outputs": [],
   "source": [
    "output_sum.backward()"
   ]
  },
  {
   "cell_type": "code",
   "execution_count": 73,
   "id": "759af4d8",
   "metadata": {},
   "outputs": [
    {
     "data": {
      "text/plain": [
       "tensor([[2., 4., 6.]])"
      ]
     },
     "execution_count": 73,
     "metadata": {},
     "output_type": "execute_result"
    }
   ],
   "source": [
    "x_tensor.grad"
   ]
  },
  {
   "cell_type": "code",
   "execution_count": 74,
   "id": "8fb68d4e",
   "metadata": {},
   "outputs": [
    {
     "data": {
      "text/plain": [
       "tensor([[1., 1.],\n",
       "        [2., 2.],\n",
       "        [3., 3.]])"
      ]
     },
     "execution_count": 74,
     "metadata": {},
     "output_type": "execute_result"
    }
   ],
   "source": [
    "w_tensor.grad"
   ]
  },
  {
   "cell_type": "code",
   "execution_count": 82,
   "id": "864fdc8d",
   "metadata": {},
   "outputs": [
    {
     "data": {
      "text/plain": [
       "torch.Size([1, 2])"
      ]
     },
     "execution_count": 82,
     "metadata": {},
     "output_type": "execute_result"
    }
   ],
   "source": [
    "output.shape"
   ]
  },
  {
   "cell_type": "code",
   "execution_count": 83,
   "id": "371e4b17",
   "metadata": {},
   "outputs": [
    {
     "data": {
      "text/plain": [
       "tensor([[14., 14.]], grad_fn=<MmBackward0>)"
      ]
     },
     "execution_count": 83,
     "metadata": {},
     "output_type": "execute_result"
    }
   ],
   "source": [
    "output"
   ]
  },
  {
   "cell_type": "code",
   "execution_count": null,
   "id": "784104fa",
   "metadata": {},
   "outputs": [],
   "source": []
  }
 ],
 "metadata": {
  "kernelspec": {
   "display_name": "Python 3 (ipykernel)",
   "language": "python",
   "name": "python3"
  },
  "language_info": {
   "codemirror_mode": {
    "name": "ipython",
    "version": 3
   },
   "file_extension": ".py",
   "mimetype": "text/x-python",
   "name": "python",
   "nbconvert_exporter": "python",
   "pygments_lexer": "ipython3",
   "version": "3.10.0"
  }
 },
 "nbformat": 4,
 "nbformat_minor": 5
}
