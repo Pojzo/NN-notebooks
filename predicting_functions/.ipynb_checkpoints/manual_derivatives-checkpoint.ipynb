{
 "cells": [
  {
   "cell_type": "code",
   "execution_count": 36,
   "id": "d7b84dd7",
   "metadata": {},
   "outputs": [
    {
     "data": {
      "text/plain": [
       "-6.283185307179586"
      ]
     },
     "execution_count": 36,
     "metadata": {},
     "output_type": "execute_result"
    },
    {
     "data": {
      "image/png": "[encoded data removed]",
      "text/plain": [
       "<Figure size 432x288 with 1 Axes>"
      ]
     },
     "metadata": {
      "needs_background": "light"
     },
     "output_type": "display_data"
    }
   ],
   "source": [
    "import numpy as np\n",
    "from matplotlib import pyplot as plt\n",
    "\n",
    "# generate sample data\n",
    "x = np.arange(-np.pi * 2, np.pi * 2, 1000)\n",
    "y = np.sin(x)\n",
    "\n",
    "plt.plot(x, y)\n",
    "x[0]"
   ]
  },
  {
   "cell_type": "code",
   "execution_count": null,
   "id": "04457513",
   "metadata": {},
   "outputs": [],
   "source": [
    "\n",
    "class Activation_Tanh:\n",
    "    def __init__(self):\n",
    "        self.output = None\n",
    "    \n",
    "    def tanh(self, x):\n",
    "        return (np.e ** x - np.e ** -x) / (np.e ** x + np.e ** -x)\n",
    "    \n",
    "    def tanh_d(self, x):\n",
    "        return 1 - self.tanh(x) ** 2\n",
    "    \n",
    "    def forward(self, inpt):\n",
    "        self.output = self.tanh(x)\n",
    "    \n",
    "    def backward(self):\n",
    "        ...\n",
    "\n",
    "class Dense_Layer:\n",
    "    def __init__(self, input_size, num_neurons, activation = 'tanh'):\n",
    "        self.weights = np.random.randn(input_size, num_neurons)\n",
    "        self.bias = np.random.randn(1)\n",
    "        self.activation = activation\n",
    "        self.output = None\n",
    "    \n",
    "    def forward(self, inpt):\n",
    "        self.output = inpt @ self.weights + b\n",
    "        \n",
    "    \n",
    "class Model:\n",
    "    def __init__(self, num_neurons, input_size = 1):\n",
    "        self.dense = np.random.randn(input_size, num_neurons)\n",
    "        \n",
    "        self.output = None\n",
    "    \n",
    "    # calculate output of the model\n",
    "    def forward(self, inpt):\n",
    "        self.output = \n",
    "        "
   ]
  }
 ],
 "metadata": {
  "kernelspec": {
   "display_name": "Python 3 (ipykernel)",
   "language": "python",
   "name": "python3"
  },
  "language_info": {
   "codemirror_mode": {
    "name": "ipython",
    "version": 3
   },
   "file_extension": ".py",
   "mimetype": "text/x-python",
   "name": "python",
   "nbconvert_exporter": "python",
   "pygments_lexer": "ipython3",
   "version": "3.10.0"
  }
 },
 "nbformat": 4,
 "nbformat_minor": 5
}
