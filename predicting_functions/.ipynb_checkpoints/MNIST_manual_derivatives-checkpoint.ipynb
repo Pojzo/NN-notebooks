{
 "cells": [
  {
   "cell_type": "code",
   "execution_count": 1,
   "id": "c15941d6",
   "metadata": {},
   "outputs": [],
   "source": [
    "# in this notebook I'll be implementing a shallow neural network\n",
    "# it's input will be one x value and output x ** 2\n",
    "# there will also be one hidden layer"
   ]
  },
  {
   "cell_type": "code",
   "execution_count": 3,
   "id": "5cd129a1",
   "metadata": {},
   "outputs": [],
   "source": [
    "import tensorflow_datasets as tfds\n",
    "import tensorflow as tf\n",
    "\n",
    "ds = tfds.load(name='mnist', split='train', shuffle_files=True)"
   ]
  },
  {
   "cell_type": "code",
   "execution_count": 324,
   "id": "e92cedce",
   "metadata": {},
   "outputs": [],
   "source": [
    "ds = ds.shuffle(len(ds)).prefetch(tf.data.AUTOTUNE)\n",
    "images, labels = list(), list()\n",
    "for example in ds.take(32):\n",
    "    images.append(example[\"image\"])\n",
    "    labels.append(example[\"label\"])"
   ]
  },
  {
   "cell_type": "code",
   "execution_count": 325,
   "id": "9977ae75",
   "metadata": {},
   "outputs": [
    {
     "data": {
      "text/plain": [
       "(tensor([[0., 0., 0., 0., 0., 0., 0., 0., 0., 1.],\n",
       "         [0., 0., 0., 0., 0., 0., 0., 1., 0., 0.],\n",
       "         [0., 0., 1., 0., 0., 0., 0., 0., 0., 0.]]),\n",
       " torch.Size([32, 10]))"
      ]
     },
     "execution_count": 325,
     "metadata": {},
     "output_type": "execute_result"
    }
   ],
   "source": [
    "from torch.nn.functional import one_hot\n",
    "import numpy as np\n",
    "\n",
    "# prepare training data\n",
    "\n",
    "images = np.array(images, dtype=np.float32).reshape(len(images), 28 * 28, 1).squeeze(axis=-1)\n",
    "labels = np.array(labels, dtype=np.int32).reshape(len(images), 1)\n",
    "tensor_labels = torch.tensor(labels).long()\n",
    "tensor_labels = one_hot(tensor_labels, num_classes=10).squeeze(dim=1).float()\n",
    "tensor_labels[:3], tensor_labels.shape"
   ]
  },
  {
   "cell_type": "code",
   "execution_count": 326,
   "id": "7e8319a0",
   "metadata": {},
   "outputs": [
    {
     "data": {
      "text/plain": [
       "((32, 784), (32, 1))"
      ]
     },
     "execution_count": 326,
     "metadata": {},
     "output_type": "execute_result"
    }
   ],
   "source": [
    "images.shape, labels.shape"
   ]
  },
  {
   "cell_type": "code",
   "execution_count": 327,
   "id": "1e1ef768",
   "metadata": {},
   "outputs": [
    {
     "data": {
      "image/png": "[encoded data removed]",
      "text/plain": [
       "<Figure size 720x720 with 9 Axes>"
      ]
     },
     "metadata": {
      "needs_background": "light"
     },
     "output_type": "display_data"
    }
   ],
   "source": [
    "from matplotlib import pyplot as plt\n",
    "\n",
    "fig, axs = plt.subplots(3, 3, figsize=(10, 10))\n",
    "for i in range(3):\n",
    "    for j in range(3):\n",
    "        axs[i][j].imshow(images[i + j].reshape(28, 28, 1))\n",
    "        axs[i][j].set_title(f'True value: {int(labels[i + j])}')\n",
    "        axs[i][j].set_xticklabels(\"\")\n",
    "        axs[i][j].set_yticklabels(\"\")"
   ]
  },
  {
   "cell_type": "code",
   "execution_count": 328,
   "id": "aaa0075e",
   "metadata": {},
   "outputs": [],
   "source": [
    "input_size = 784\n",
    "dense1_size = 256\n",
    "output_size = 10"
   ]
  },
  {
   "cell_type": "code",
   "execution_count": 343,
   "id": "8d3ec72b",
   "metadata": {
    "scrolled": true
   },
   "outputs": [
    {
     "name": "stdout",
     "output_type": "stream",
     "text": [
      "19.327266693115234 3.125%\n",
      "6.3458733558654785 59.375%\n",
      "0.7892393469810486 87.5%\n",
      "0.08642374724149704 96.875%\n",
      "0.0002069836773443967 100.0%\n",
      "0.00018929374346043915 100.0%\n",
      "0.00017462571850046515 100.0%\n",
      "0.00016226879961322993 100.0%\n",
      "0.0001516780466772616 100.0%\n",
      "0.00014251639368012547 100.0%\n"
     ]
    }
   ],
   "source": [
    "import torch\n",
    "import torch.nn.functional as F\n",
    "\n",
    "def cross_entropy(predictions, targets, epsilon=1e-12):\n",
    "    predictions = np.clip(predictions, epsilon, 1. - epsilon)\n",
    "    N = predictions.shape[0]\n",
    "    ce = -np.sum(targets*np.log(predictions+1e-9))/N\n",
    "    return ce\n",
    "\n",
    "lr = 1\n",
    "\n",
    "tensor_x = torch.tensor(images) / 255.\n",
    "tensor_y = tensor_labels\n",
    "\n",
    "W1 = torch.randn(input_size, dense1_size, requires_grad=True)\n",
    "b1 = torch.randn(dense1_size, requires_grad=True)\n",
    "\n",
    "W2 = torch.randn(dense1_size, output_size, requires_grad=True)\n",
    "b2 = torch.randn(output_size, requires_grad=True)\n",
    "\n",
    "def predict(x):\n",
    "    dense1_output = x @ W1 + b1\n",
    "    dense1_activation = F.tanh(dense1_output)\n",
    "\n",
    "    dense2_output = dense1_activation @ W2 + b2\n",
    "    dense2_activation = F.softmax(dense2_output, dim=1)\n",
    "    \n",
    "    return dense2_activation\n",
    "\n",
    "for i in range(10):    \n",
    "    dense1_output = tensor_x @ W1 + b1\n",
    "    dense1_activation = torch.tanh(dense1_output)\n",
    "\n",
    "    dense2_output = dense1_activation @ W2 + b2\n",
    "    prediction = dense2_output\n",
    "    loss_function = CrossEntropyLoss()\n",
    "    #loss_function = torch.nn.NLLLoss()\n",
    "\n",
    "    loss = loss_function(prediction, tensor_y)\n",
    "    W1.grad = None\n",
    "    W2.grad = None\n",
    "    b1.grad = None\n",
    "    b2.grad = None\n",
    "    \n",
    "    loss.backward()\n",
    "    \n",
    "    W1.data -= lr * W1.grad\n",
    "    W2.data -= lr * W2.grad\n",
    "    b1.data -= lr * b1.grad\n",
    "    b2.data -= lr * b2.grad\n",
    "    \n",
    "    accuracy = list(prediction.argmax(axis=1) == tensor_y.argmax(axis=1)).count(True) / len(tensor_y)\n",
    "    print(loss.item(), f'{accuracy * 100}%')"
   ]
  },
  {
   "cell_type": "code",
   "execution_count": 344,
   "id": "ac7c5457",
   "metadata": {},
   "outputs": [],
   "source": [
    "# tutok som to robil cez torch\n",
    "# teraz spraviem manualne parcialne derivacie 💀💀💀"
   ]
  }
 ],
 "metadata": {
  "kernelspec": {
   "display_name": "Python 3 (ipykernel)",
   "language": "python",
   "name": "python3"
  },
  "language_info": {
   "codemirror_mode": {
    "name": "ipython",
    "version": 3
   },
   "file_extension": ".py",
   "mimetype": "text/x-python",
   "name": "python",
   "nbconvert_exporter": "python",
   "pygments_lexer": "ipython3",
   "version": "3.10.0"
  }
 },
 "nbformat": 4,
 "nbformat_minor": 5
}
