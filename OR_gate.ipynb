{
 "cells": [
  {
   "cell_type": "code",
   "execution_count": 107,
   "id": "1f1238e2-b0cc-4863-8834-8b20b289c3fe",
   "metadata": {},
   "outputs": [
    {
     "name": "stdout",
     "output_type": "stream",
     "text": [
      "Loss after 0 epochs:  0.06808192773846561\n",
      "Loss after 1000 epochs:  0.00701046300990136\n",
      "Loss after 2000 epochs:  0.003193633324893118\n",
      "Loss after 3000 epochs:  0.0020144353229930322\n",
      "Loss after 4000 epochs:  0.0014571204537172544\n",
      "Loss after 5000 epochs:  0.0011359863460064334\n",
      "Loss after 6000 epochs:  0.0009283311144525874\n",
      "Loss after 7000 epochs:  0.0007835227288064763\n",
      "Loss after 8000 epochs:  0.0006770116081734828\n",
      "Loss after 9000 epochs:  0.0005955016607031648\n"
     ]
    }
   ],
   "source": [
    "import numpy as np\n",
    "\n",
    "x = np.array([[0, 0], [0, 1], [1, 0], [1, 1]])\n",
    "t = np.array([0, 1, 1, 1])\n",
    "\n",
    "w = np.random.randn(2)\n",
    "b = np.random.randn(1)\n",
    "\n",
    "lr = 0.5\n",
    "\n",
    "def sigmoid(x):\n",
    "    return 1 / (1 + np.exp(-x))\n",
    "\n",
    "def forward(X, w, b):\n",
    "    z = np.dot(X, w) + b\n",
    "    y = sigmoid(z)\n",
    "    return y, z\n",
    "\n",
    "def backward(x, t, y, z):\n",
    "    derror_y = y - t\n",
    "    dy_z = y * (1 - y)\n",
    "    \n",
    "    dz_w = x\n",
    "    dz_b = np.ones_like(dy_z)\n",
    "    \n",
    "    derror_w = derror_y * dy_z * dz_w.T\n",
    "    derror_b = derror_y * dy_z * dz_b\n",
    "    \n",
    "    return derror_w, derror_b\n",
    "\n",
    "for i in range(10000):\n",
    "    y, z = forward(x, w, b)\n",
    "\n",
    "    error = np.mean(0.5 * (t - y) ** 2)\n",
    "    \n",
    "    derror_w1, derror_b = backward(x, t, y, z)\n",
    "    w -= lr * np.mean(derror_w1)\n",
    "    b -= lr * np.mean(derror_b)\n",
    "    if i % 1000 == 0:\n",
    "        print(\"Loss after {} epochs: \".format(i), error)"
   ]
  },
  {
   "cell_type": "code",
   "execution_count": null,
   "id": "0f317d1b-947d-483f-a82b-8bd077971a74",
   "metadata": {},
   "outputs": [],
   "source": []
  }
 ],
 "metadata": {
  "kernelspec": {
   "display_name": "Python 3 (ipykernel)",
   "language": "python",
   "name": "python3"
  },
  "language_info": {
   "codemirror_mode": {
    "name": "ipython",
    "version": 3
   },
   "file_extension": ".py",
   "mimetype": "text/x-python",
   "name": "python",
   "nbconvert_exporter": "python",
   "pygments_lexer": "ipython3",
   "version": "3.10.14"
  }
 },
 "nbformat": 4,
 "nbformat_minor": 5
}
