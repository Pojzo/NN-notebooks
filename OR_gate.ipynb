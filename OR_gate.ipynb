{
 "cells": [
  {
   "cell_type": "code",
   "execution_count": 106,
   "id": "1f1238e2-b0cc-4863-8834-8b20b289c3fe",
   "metadata": {},
   "outputs": [
    {
     "name": "stdout",
     "output_type": "stream",
     "text": [
      "Loss after 0 epochs:  0.06554779476951629\n",
      "Loss after 1000 epochs:  0.006593842340922963\n",
      "Loss after 2000 epochs:  0.0030802294823400567\n",
      "Loss after 3000 epochs:  0.0019620996276469944\n",
      "Loss after 4000 epochs:  0.0014267677150240185\n",
      "Loss after 5000 epochs:  0.0011160146144549076\n",
      "Loss after 6000 epochs:  0.0009141001215924417\n",
      "Loss after 7000 epochs:  0.0007728121494250107\n",
      "Loss after 8000 epochs:  0.0006686232178497598\n",
      "Loss after 9000 epochs:  0.0005887303915044692\n"
     ]
    }
   ],
   "source": [
    "import numpy as np\n",
    "\n",
    "x = np.array([[0, 0], [0, 1], [1, 0], [1, 1]])\n",
    "t = np.array([0, 1, 1, 1])\n",
    "\n",
    "w = np.random.randn(2)\n",
    "b = np.random.randn(1)\n",
    "\n",
    "lr = 0.5\n",
    "\n",
    "def sigmoid(x):\n",
    "    return 1 / (1 + np.exp(-x))\n",
    "\n",
    "def forward(X, w, b):\n",
    "    z = np.dot(X, w) + b\n",
    "    y = sigmoid(z)\n",
    "    return y, z\n",
    "\n",
    "def backward(x, t, y, z):\n",
    "    derror_y = y - t\n",
    "    dy_z = y * (1 - y)\n",
    "    \n",
    "    dz_w = x\n",
    "    dz_b = np.ones_like(dy_z)\n",
    "    \n",
    "    derror_w = derror_y * dy_z * dz_w.T\n",
    "    derror_b = derror_y * dy_z * dz_b\n",
    "    \n",
    "    return derror_w, derror_b\n",
    "\n",
    "for i in range(10000):\n",
    "    y, z = forward(x, w, b)\n",
    "\n",
    "    error = np.mean(0.5 * (t - y) ** 2)\n",
    "    \n",
    "    derror_w1, derror_b = backward(x, t, y, z)\n",
    "    w -= lr * np.mean(derror_w1)\n",
    "    b -= lr * np.mean(derror_b)\n",
    "    if i % 1000 == 0:\n",
    "        print(\"Loss after {} epochs: \".format(i), error)"
   ]
  },
  {
   "cell_type": "code",
   "execution_count": 97,
   "id": "4597e949-50d6-4170-8abc-89861c492ccd",
   "metadata": {},
   "outputs": [
    {
     "data": {
      "text/plain": [
       "array([[0, 1]])"
      ]
     },
     "execution_count": 97,
     "metadata": {},
     "output_type": "execute_result"
    }
   ],
   "source": [
    "np.array([[0, 1]])"
   ]
  },
  {
   "cell_type": "code",
   "execution_count": 98,
   "id": "16b4b627-e0ce-4a86-b78c-6a345e8f662b",
   "metadata": {},
   "outputs": [
    {
     "data": {
      "text/plain": [
       "array([3.43711838, 3.71247769])"
      ]
     },
     "execution_count": 98,
     "metadata": {},
     "output_type": "execute_result"
    }
   ],
   "source": [
    "w"
   ]
  },
  {
   "cell_type": "code",
   "execution_count": 104,
   "id": "cdb4581a-b3c9-40d7-b5fa-05f066a57e8e",
   "metadata": {},
   "outputs": [
    {
     "data": {
      "text/plain": [
       "array([3.71247769])"
      ]
     },
     "execution_count": 104,
     "metadata": {},
     "output_type": "execute_result"
    }
   ],
   "source": [
    "np.dot([[0, 1]], w.T)"
   ]
  },
  {
   "cell_type": "code",
   "execution_count": 100,
   "id": "12a39da4-a91e-4afe-85c9-9af59db5fe16",
   "metadata": {},
   "outputs": [
    {
     "data": {
      "text/plain": [
       "(2,)"
      ]
     },
     "execution_count": 100,
     "metadata": {},
     "output_type": "execute_result"
    }
   ],
   "source": [
    "w.shape"
   ]
  },
  {
   "cell_type": "code",
   "execution_count": null,
   "id": "6877759e-ec6e-45c7-aa38-736bf3a86feb",
   "metadata": {},
   "outputs": [],
   "source": []
  }
 ],
 "metadata": {
  "kernelspec": {
   "display_name": "Python 3 (ipykernel)",
   "language": "python",
   "name": "python3"
  },
  "language_info": {
   "codemirror_mode": {
    "name": "ipython",
    "version": 3
   },
   "file_extension": ".py",
   "mimetype": "text/x-python",
   "name": "python",
   "nbconvert_exporter": "python",
   "pygments_lexer": "ipython3",
   "version": "3.10.14"
  }
 },
 "nbformat": 4,
 "nbformat_minor": 5
}
