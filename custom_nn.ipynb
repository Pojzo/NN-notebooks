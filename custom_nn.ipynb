{
 "cells": [
  {
   "cell_type": "code",
   "execution_count": 1,
   "id": "a750655c-7143-4bcb-ac99-c641cd8e1ecd",
   "metadata": {},
   "outputs": [],
   "source": [
    "import tensorflow as tf\n",
    "\n",
    "(train_images, train_labels), (test_images, test_labels) = tf.keras.datasets.mnist.load_data()"
   ]
  },
  {
   "cell_type": "code",
   "execution_count": 96,
   "id": "f9579b48-18c0-4f0b-8cb9-b0389f6dec27",
   "metadata": {},
   "outputs": [],
   "source": [
    "from abc import ABC, abstractmethod\n",
    "import numpy as np\n",
    "import time\n",
    "\n",
    "def sigmoid(x):\n",
    "    return 1 / (1 + np.exp(-x))\n",
    "\n",
    "def sigmoid_derivative(x):\n",
    "    s = sigmoid(x)\n",
    "    return s * (1 - s)\n",
    "\n",
    "def relu(x):\n",
    "    return np.maximum(0, x)\n",
    "\n",
    "def relu_derivative(x):\n",
    "    return (x > 0).astype(float)\n",
    "    \n",
    "class Loss(ABC):\n",
    "    @abstractmethod\n",
    "    def forward(self, pred, target):\n",
    "        pass\n",
    "\n",
    "    @abstractmethod\n",
    "    def backward(self, pred, target):\n",
    "        pass\n",
    "\n",
    "    def __call__(self, pred, target):\n",
    "        return self.forward(pred, target)\n",
    "\n",
    "class Layer(ABC):\n",
    "    def __init__(self, activation='sigmoid'):\n",
    "        self.activation = activation\n",
    "        \n",
    "    @abstractmethod\n",
    "    def forward(self, inputs):\n",
    "        pass\n",
    "    @abstractmethod\n",
    "    def backward(self, outputs):\n",
    "        pass\n",
    "\n",
    "class Dense(Layer):\n",
    "    def __init__(self, input_size, output_size, activation='sigmoid'):\n",
    "        super().__init__(activation=activation)\n",
    "        # self.weights = np.random.rand(input_size, output_size)\n",
    "        self.weights = np.random.randn(input_size, output_size) * np.sqrt(2.0 / input_size)\n",
    "\n",
    "        self.bias = np.random.rand(output_size)\n",
    "        self.shape = self.weights.shape\n",
    "\n",
    "    def forward(self, inputs):\n",
    "        self.inputs = inputs\n",
    "        self.z = inputs @ self.weights + self.bias\n",
    "\n",
    "        if self.activation == 'sigmoid':\n",
    "            self.output = sigmoid(self.z)\n",
    "        elif self.activation == 'relu':\n",
    "            self.output = relu(self.z)\n",
    "        else:\n",
    "            self.output = self.z\n",
    "\n",
    "        return self.output\n",
    "\n",
    "    def backward(self, d_next, lr=0.01):\n",
    "        if self.activation == 'sigmoid':\n",
    "            d = sigmoid_derivative(self.z) * d_next\n",
    "        elif self.activation == 'relu':\n",
    "            d = relu_derivative(self.z) * d_next\n",
    "        else:\n",
    "            d = d_next\n",
    "\n",
    "        dl_dw = self.inputs.T @ d\n",
    "        dl_db = np.sum(d, axis=0)\n",
    "        dl_dx = d @ self.weights.T\n",
    "\n",
    "        self.weights -= dl_dw * lr\n",
    "        self.bias -= dl_db * lr\n",
    "\n",
    "        return dl_dx, dl_dw, dl_db\n",
    "\n",
    "class Flatten(Layer):\n",
    "    def __init__(self):\n",
    "        super().__init__(activation=None)\n",
    "\n",
    "    def forward(self, inpt):\n",
    "        if len(inpt.shape) == 3:\n",
    "            batch_size = inpt.shape[0]\n",
    "\n",
    "        return np.reshape(inpt, (batch_size, inpt.shape[1] * inpt.shape[2]))\n",
    "\n",
    "    def backward(self, d_next):\n",
    "        return d_next, 0, 0\n",
    "\n",
    "class Normalize(Layer):\n",
    "    def __init__(self):\n",
    "        super().__init__(activation=None)\n",
    "\n",
    "    def forward(self, inpt):\n",
    "        self.scale = np.max(inpt)\n",
    "        return inpt / self.scale\n",
    "\n",
    "    def backward(self, d_next):\n",
    "        return d_next / self.scale, 0, 0\n",
    "\n",
    "class MSE(Loss):\n",
    "    def forward(self, pred, target):\n",
    "        return np.square(np.subtract(pred, target)).mean(axis=1)\n",
    "\n",
    "    def backward(self, pred, target):\n",
    "        return 2 * (pred - target) / pred.shape[0]\n",
    "\n",
    "class Model(ABC):\n",
    "    def __init__(self, loss_fn=None):\n",
    "        self.loss_fn = loss_fn\n",
    "        self.layers = []\n",
    "\n",
    "    def add(self, layer):\n",
    "        if type(layer) == Layer: \n",
    "            self.layers.append(layer)\n",
    "        elif type(layer) == list:\n",
    "            self.layers.extend(layer)\n",
    "        else:\n",
    "            raise Exception(\"Invalid layer\")\n",
    "\n",
    "    def __call__(self, inpt):\n",
    "        return self.forward(inpt)\n",
    "\n",
    "    def forward(self, inpt):\n",
    "        output = inpt\n",
    "        for layer in self.layers:\n",
    "            output = layer.forward(output)\n",
    "\n",
    "        return output\n",
    "\n",
    "    @abstractmethod\n",
    "    def backward(self, inpt):\n",
    "        pass\n",
    "            \n",
    "\n",
    "class ClassifierModel(Model):\n",
    "    def __init__(self, loss_fn=MSE()):\n",
    "        super().__init__(loss_fn=loss_fn)\n",
    "        self.accs = None\n",
    "        self.losses = None\n",
    "\n",
    "    def backward(self, one_hot_target, target_argmax):\n",
    "        pred = self.layers[-1].output\n",
    "        loss = self.loss_fn(pred, one_hot_target)\n",
    "\n",
    "        d_loss = self.loss_fn.backward(pred, one_hot_target)\n",
    "\n",
    "        dl_dx = d_loss\n",
    "        for layer in self.layers[::-1]:\n",
    "            dl_dx, _, _ = layer.backward(dl_dx)\n",
    "\n",
    "        if self.losses is not None:\n",
    "            self.losses.append(np.mean(loss))\n",
    "\n",
    "        pred_argmax = np.argmax(pred, axis=1)\n",
    "        # target_argmax = np.argmax(target, axis=1)\n",
    "        acc = np.sum(pred_argmax == target_argmax) / len(pred_argmax)\n",
    "        \n",
    "        if self.accs is not None:\n",
    "            self.accs.append(acc)\n",
    "\n",
    "        return loss, acc\n",
    "\n",
    "    def train(self, data_x, data_y, epochs=100, batch_size=32, print_freq=10):\n",
    "        start_time = time.time()\n",
    "        one_hot_target = np.eye(10)[data_y]\n",
    "        num_samples = data_x.shape[0]\n",
    "        \n",
    "        for epoch in range(epochs):\n",
    "            epoch_loss = 0\n",
    "            epoch_acc = []\n",
    "            num_batches = num_samples // batch_size\n",
    "            for batch_start in range(0, num_samples, batch_size):\n",
    "                \n",
    "                batch_end = min(batch_start + batch_size, num_samples)\n",
    "                batch_x = data_x[batch_start:batch_end]\n",
    "                batch_y = one_hot_target[batch_start:batch_end]\n",
    "\n",
    "                output= self.forward(batch_x)\n",
    "\n",
    "                loss, acc = self.backward(batch_y, data_y[batch_start:batch_end])\n",
    "                epoch_loss += loss.sum()\n",
    "                epoch_acc += [acc]            \n",
    "            # Average loss for the epoch\n",
    "            epoch_loss /= num_samples\n",
    "            epoch_acc = np.mean(epoch_acc)\n",
    "\n",
    "            # Print progress\n",
    "            if (epoch + 1) % print_freq == 0:\n",
    "                avg_epoch_time = (time.time() - start_time) / (epoch + 1)\n",
    "                print(f\"Epoch {epoch + 1}/{epochs}: Loss - {epoch_loss:.4f}. Acc - {epoch_acc:.4f}. Avg epoch time: {avg_epoch_time:.4f}s\")\n",
    "\n",
    "        total_time = time.time() - start_time\n",
    "        print(f\"Finished training for {epochs} epochs: Final Loss - {epoch_loss:.4f}. Acc - {epoch_acc:.4f}. Total time: {total_time:.4f}s\")\n",
    "\n",
    "\n",
    "    def test(self, data_x, data_y):\n",
    "        pred = self(data_x)\n",
    "        pred_argmax = np.argmax(pred, axis=1)\n",
    "\n",
    "        target_argmax = np.argmax(data_y, axis=1)\n",
    "\n",
    "        print(pred_argmax.shape, target_argmax.shape)\n",
    "\n",
    "        return np.sum(target_argmax == pred_argmax) / len(pred_argmax)\n",
    "\n",
    "    def get_stats(self, data_x, data_y):\n",
    "        best_acc_train = np.max(self.accs)\n",
    "        acc_test = self.test(data_x, data_y)\n",
    "\n",
    "        return {'acc_train': best_acc_train, 'acc_test': acc_test}\n",
    "\n",
    "    def get_wrong_predictions(self, data_x, data_y):\n",
    "        pred = self(data_x)\n",
    "        \n",
    "    def start_loss_history(self):\n",
    "        self.losses = []\n",
    "\n",
    "    def start_acc_history(self):\n",
    "        self.accs = []\n",
    "\n",
    "    def get_loss_history(self):\n",
    "        return self.losses\n",
    "\n",
    "    def get_acc_history(self):\n",
    "        return self.accs"
   ]
  },
  {
   "cell_type": "code",
   "execution_count": 97,
   "id": "a3a9dab4-e7a2-4cea-8b99-9e887f848e23",
   "metadata": {
    "scrolled": true
   },
   "outputs": [
    {
     "name": "stdout",
     "output_type": "stream",
     "text": [
      "Epoch 10/100: Loss - 0.0216. Acc - 0.8894. Avg epoch time: 1.2930s\n",
      "Epoch 20/100: Loss - 0.0172. Acc - 0.9084. Avg epoch time: 1.3190s\n",
      "Epoch 30/100: Loss - 0.0151. Acc - 0.9184. Avg epoch time: 1.3343s\n",
      "Epoch 40/100: Loss - 0.0136. Acc - 0.9256. Avg epoch time: 1.3656s\n",
      "Epoch 50/100: Loss - 0.0125. Acc - 0.9312. Avg epoch time: 1.3796s\n",
      "Epoch 60/100: Loss - 0.0117. Acc - 0.9361. Avg epoch time: 1.3932s\n",
      "Epoch 70/100: Loss - 0.0109. Acc - 0.9403. Avg epoch time: 1.3755s\n",
      "Epoch 80/100: Loss - 0.0103. Acc - 0.9442. Avg epoch time: 1.3637s\n",
      "Epoch 90/100: Loss - 0.0098. Acc - 0.9472. Avg epoch time: 1.3551s\n",
      "Epoch 100/100: Loss - 0.0093. Acc - 0.9499. Avg epoch time: 1.3537s\n",
      "Finished training for 100 epochs: Final Loss - 0.0093. Acc - 0.9499. Total time: 135.3682s\n"
     ]
    }
   ],
   "source": [
    "import time\n",
    "import matplotlib.pyplot as plt\n",
    "\n",
    "model = ClassifierModel()\n",
    "\n",
    "activation = 'sigmoid'\n",
    "\n",
    "dense1 = Dense(28 * 28, 256, activation='relu')\n",
    "dense2 = Dense(256, 64, activation='relu')\n",
    "dense3 = Dense(64, 10, activation='sigmoid')\n",
    "flatten = Flatten()\n",
    "normalize = Normalize()\n",
    "\n",
    "model.add([flatten, normalize, dense1, dense2, dense3])\n",
    "model.start_loss_history()\n",
    "model.start_acc_history()\n",
    "\n",
    "n_samples = 60000\n",
    "\n",
    "data_x = train_images[:n_samples]\n",
    "data_y = train_labels[:n_samples]\n",
    "\n",
    "model.train(data_x, data_y, batch_size = 256, epochs=100, print_freq=10)"
   ]
  },
  {
   "cell_type": "code",
   "execution_count": 83,
   "id": "d9d26bdc-26b6-4572-a5df-183c512b8583",
   "metadata": {},
   "outputs": [
    {
     "data": {
      "text/plain": [
       "[<matplotlib.lines.Line2D at 0x18b00c4f850>]"
      ]
     },
     "execution_count": 83,
     "metadata": {},
     "output_type": "execute_result"
    },
    {
     "data": {
      "image/png": "[encoded data removed]",
      "text/plain": [
       "<Figure size 640x480 with 1 Axes>"
      ]
     },
     "metadata": {},
     "output_type": "display_data"
    }
   ],
   "source": [
    "batches_per_dataset = 1000 // 64\n",
    "\n",
    "plt.plot(model.get_loss_history()[::batches_per_dataset])\n",
    "plt.plot(model.get_acc_history()[::batches_per_dataset])"
   ]
  },
  {
   "cell_type": "code",
   "execution_count": 88,
   "id": "8c0693a0-7d80-492e-b277-cddbffaf7fde",
   "metadata": {},
   "outputs": [
    {
     "name": "stdout",
     "output_type": "stream",
     "text": [
      "(10000,) (10000,)\n"
     ]
    }
   ],
   "source": [
    "stats = model.get_stats(test_images, np.eye(10)[test_labels])"
   ]
  },
  {
   "cell_type": "code",
   "execution_count": 89,
   "id": "873a66e3-793e-4f68-872e-383a43aa0e9b",
   "metadata": {},
   "outputs": [
    {
     "name": "stdout",
     "output_type": "stream",
     "text": [
      "0.99609375 0.948\n"
     ]
    }
   ],
   "source": [
    "train_acc = stats['acc_train']\n",
    "test_acc = stats['acc_test']\n",
    "\n",
    "print(train_acc, test_acc)"
   ]
  },
  {
   "cell_type": "code",
   "execution_count": 77,
   "id": "54abe876-e01e-4ad7-a54b-ba2dd0ad5c4a",
   "metadata": {},
   "outputs": [
    {
     "data": {
      "text/plain": [
       "{'acc_train': 1.0, 'acc_test': 0.6715}"
      ]
     },
     "execution_count": 77,
     "metadata": {},
     "output_type": "execute_result"
    }
   ],
   "source": [
    "stats"
   ]
  },
  {
   "cell_type": "code",
   "execution_count": 74,
   "id": "d64685c4-6b9f-4ba8-9910-4a15a975f738",
   "metadata": {},
   "outputs": [
    {
     "data": {
      "text/plain": [
       "array([7, 2, 1, ..., 4, 5, 6], dtype=uint8)"
      ]
     },
     "execution_count": 74,
     "metadata": {},
     "output_type": "execute_result"
    }
   ],
   "source": [
    "test_labels"
   ]
  },
  {
   "cell_type": "code",
   "execution_count": 32,
   "id": "198ae3d8-c956-4ba6-aa7e-3bbe39f99f41",
   "metadata": {},
   "outputs": [],
   "source": [
    "model.get_acc_history()"
   ]
  },
  {
   "cell_type": "code",
   "execution_count": 21,
   "id": "b0ccb26e-5236-42e8-84a1-9ddccf53f7fb",
   "metadata": {},
   "outputs": [
    {
     "data": {
      "text/plain": [
       "[]"
      ]
     },
     "execution_count": 21,
     "metadata": {},
     "output_type": "execute_result"
    }
   ],
   "source": [
    "model.get_loss_history()"
   ]
  },
  {
   "cell_type": "code",
   "execution_count": null,
   "id": "453f2a27-9af1-43d9-909b-48ac591b8b42",
   "metadata": {},
   "outputs": [],
   "source": [
    "model.get_loss_histo"
   ]
  },
  {
   "cell_type": "code",
   "execution_count": 90,
   "id": "1579b947-37b4-479a-9d15-faa42ecf6a21",
   "metadata": {},
   "outputs": [
    {
     "data": {
      "image/png": "[encoded data removed]",
      "text/plain": [
       "<Figure size 1000x1000 with 9 Axes>"
      ]
     },
     "metadata": {},
     "output_type": "display_data"
    }
   ],
   "source": [
    "fig, axs = plt.subplots(nrows=3, ncols=3, figsize=(10, 10))\n",
    "axs = axs.flatten()\n",
    "\n",
    "test_x = train_images[:len(axs)]\n",
    "test_y = train_labels[:len(axs)]\n",
    "\n",
    "pred = model.forward(test_x)\n",
    "pred_argmax = np.argmax(pred, axis=1)\n",
    "\n",
    "for ax, image, pred, target in zip(axs, test_x, pred_argmax, test_y):\n",
    "    color = 'green' if pred == target else 'red'\n",
    "    ax.set_title(\"Pred: {}, target: {}\".format(pred, target), color=color)\n",
    "    ax.imshow(image)"
   ]
  },
  {
   "cell_type": "code",
   "execution_count": 116,
   "id": "8442b3f2-2fd2-444d-a43c-8bedd5db982a",
   "metadata": {},
   "outputs": [
    {
     "data": {
      "text/plain": [
       "(60000, 28, 28)"
      ]
     },
     "execution_count": 116,
     "metadata": {},
     "output_type": "execute_result"
    }
   ],
   "source": [
    "train_images.shape"
   ]
  },
  {
   "cell_type": "code",
   "execution_count": 117,
   "id": "9a7d424d-9eec-499a-9f90-5ba2e1a1f4dd",
   "metadata": {},
   "outputs": [
    {
     "data": {
      "text/plain": [
       "(10000, 28, 28)"
      ]
     },
     "execution_count": 117,
     "metadata": {},
     "output_type": "execute_result"
    }
   ],
   "source": [
    "test_images.shape"
   ]
  },
  {
   "cell_type": "code",
   "execution_count": null,
   "id": "c928b5ff-e652-4fff-90fd-77c63e9c8011",
   "metadata": {},
   "outputs": [],
   "source": []
  }
 ],
 "metadata": {
  "kernelspec": {
   "display_name": "Python 3 (ipykernel)",
   "language": "python",
   "name": "python3"
  },
  "language_info": {
   "codemirror_mode": {
    "name": "ipython",
    "version": 3
   },
   "file_extension": ".py",
   "mimetype": "text/x-python",
   "name": "python",
   "nbconvert_exporter": "python",
   "pygments_lexer": "ipython3",
   "version": "3.10.14"
  }
 },
 "nbformat": 4,
 "nbformat_minor": 5
}
